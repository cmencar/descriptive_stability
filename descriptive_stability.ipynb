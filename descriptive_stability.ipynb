{
  "nbformat": 4,
  "nbformat_minor": 0,
  "metadata": {
    "colab": {
      "name": "descriptive_stability.ipynb",
      "provenance": [],
      "toc_visible": true,
      "include_colab_link": true
    },
    "kernelspec": {
      "name": "python3",
      "display_name": "Python 3"
    }
  },
  "cells": [
    {
      "cell_type": "markdown",
      "metadata": {
        "id": "view-in-github",
        "colab_type": "text"
      },
      "source": [
        "<a href=\"https://colab.research.google.com/github/cmencar/descriptive_stability/blob/develop/descriptive_stability.ipynb\" target=\"_parent\"><img src=\"https://colab.research.google.com/assets/colab-badge.svg\" alt=\"Open In Colab\"/></a>"
      ]
    },
    {
      "cell_type": "markdown",
      "metadata": {
        "id": "jZbOl4JCxCsU"
      },
      "source": [
        "# Preliminaries"
      ]
    },
    {
      "cell_type": "markdown",
      "metadata": {
        "id": "wMfOcUFHxKH9"
      },
      "source": [
        "## Required modules and functions"
      ]
    },
    {
      "cell_type": "code",
      "metadata": {
        "id": "xzqRNgtTsxqv"
      },
      "source": [
        "from collections import namedtuple\n",
        "from math import exp\n",
        "from scipy.optimize import linear_sum_assignment\n",
        "from itertools import combinations\n",
        "import numpy as np"
      ],
      "execution_count": null,
      "outputs": []
    },
    {
      "cell_type": "markdown",
      "metadata": {
        "id": "lqhqxCV1xRAC"
      },
      "source": [
        "## Utility functions"
      ]
    },
    {
      "cell_type": "code",
      "metadata": {
        "id": "Vw2LhGQRu6u1"
      },
      "source": [
        "χ = lambda x,y: 1 if x==y else 0"
      ],
      "execution_count": null,
      "outputs": []
    },
    {
      "cell_type": "markdown",
      "metadata": {
        "id": "IXIMhUnAxY6y"
      },
      "source": [
        "### Aggregation functions"
      ]
    },
    {
      "cell_type": "code",
      "metadata": {
        "id": "14UXD6nJxRaQ"
      },
      "source": [
        "def prod(*it):\n",
        "  \"\"\"Product of an iterable\"\"\"\n",
        "  p = 1\n",
        "  for elem in it:\n",
        "    p *= elem\n",
        "  return p"
      ],
      "execution_count": null,
      "outputs": []
    },
    {
      "cell_type": "code",
      "metadata": {
        "id": "X1jWJRRqx0cO"
      },
      "source": [
        "def owa(w, *it):\n",
        "  \"\"\"Ordered Weighted Average of an iterable\"\"\"\n",
        "  sorted_it = sorted(it)\n",
        "  r = sum(elem*weight for elem,weight in zip(sorted_it, w))\n",
        "  #print(f\"aggregation of {it} is: {r}\")\n",
        "  return r"
      ],
      "execution_count": null,
      "outputs": []
    },
    {
      "cell_type": "code",
      "metadata": {
        "id": "5e3DSefoya8V"
      },
      "source": [
        "avg = lambda *it: owa([1/len(it)]*len(it), *it)"
      ],
      "execution_count": null,
      "outputs": []
    },
    {
      "cell_type": "markdown",
      "metadata": {
        "id": "30UOt51TxfoO"
      },
      "source": [
        "### Set functions"
      ]
    },
    {
      "cell_type": "code",
      "metadata": {
        "id": "sehCjh1Q2gYA"
      },
      "source": [
        "def jaccard(s1, s2):\n",
        "  return len(s1 & s2) / len(s1 | s2)"
      ],
      "execution_count": null,
      "outputs": []
    },
    {
      "cell_type": "markdown",
      "metadata": {
        "id": "IsqMmY3hxppV"
      },
      "source": [
        "### Fuzzy set functions"
      ]
    },
    {
      "cell_type": "markdown",
      "metadata": {
        "id": "Sdm9UO7sxw2d"
      },
      "source": [
        "#### Membership functions"
      ]
    },
    {
      "cell_type": "code",
      "metadata": {
        "id": "ZRoHwW5jjvvC"
      },
      "source": [
        "def trapmf(a,b,c,d):\n",
        "  return lambda x:\\\n",
        "            (x-a)/(b-a) if a < x < b else\\\n",
        "            1           if b <= x <= c else\\\n",
        "            (x-d)/(c-d) if c < x < d else\\\n",
        "            0"
      ],
      "execution_count": null,
      "outputs": []
    },
    {
      "cell_type": "code",
      "metadata": {
        "id": "DeZLZKOxlIEh"
      },
      "source": [
        "trimf = lambda a,b,c: trapmf(a,b,b,c)"
      ],
      "execution_count": null,
      "outputs": []
    },
    {
      "cell_type": "code",
      "metadata": {
        "id": "ejGMfkht4gVh"
      },
      "source": [
        "def singletonmf(v, delta):\n",
        "  return lambda x:\\\n",
        "            1 if v-delta <= x < v+delta else\\\n",
        "            0"
      ],
      "execution_count": null,
      "outputs": []
    },
    {
      "cell_type": "markdown",
      "metadata": {
        "id": "H44OUJmEx4nD"
      },
      "source": [
        "#### Fuzzy set manipulation"
      ]
    },
    {
      "cell_type": "code",
      "metadata": {
        "id": "w5EmHmrtlk3h"
      },
      "source": [
        "ext_mf = lambda mf, U: (lambda x: 0 if x not in U else mf(x))"
      ],
      "execution_count": null,
      "outputs": []
    },
    {
      "cell_type": "code",
      "metadata": {
        "id": "6LleDII2mYq1"
      },
      "source": [
        "σ_count = lambda mf, U: sum(mf(x) for x in U)"
      ],
      "execution_count": null,
      "outputs": []
    },
    {
      "cell_type": "markdown",
      "metadata": {
        "id": "Yw54mhqSyU1E"
      },
      "source": [
        "# FRBS structure"
      ]
    },
    {
      "cell_type": "code",
      "metadata": {
        "id": "rGSh_xqOqTOI"
      },
      "source": [
        "FRBS = namedtuple(\"FRBS\", [\"DB\", \"RB\"])"
      ],
      "execution_count": null,
      "outputs": []
    },
    {
      "cell_type": "code",
      "metadata": {
        "id": "WymOJSQ7T0Oh"
      },
      "source": [
        "LV = namedtuple(\"LV\", [\"X\", \"T\", \"U\", \"G\", \"μ\"])\n",
        "# DB is a dictionary of {X:LV}"
      ],
      "execution_count": null,
      "outputs": []
    },
    {
      "cell_type": "code",
      "metadata": {
        "id": "gCsJgcr_45jo"
      },
      "source": [
        "Rule = namedtuple(\"Rule\", [\"A\", \"C\"])\n",
        "# RB is a dictionary of {str:Rule}"
      ],
      "execution_count": null,
      "outputs": []
    },
    {
      "cell_type": "code",
      "metadata": {
        "id": "Bmzx3N1is3pZ"
      },
      "source": [
        "Consequent = namedtuple('Consequent', ['Y', 'w', 'ctype'])"
      ],
      "execution_count": null,
      "outputs": []
    },
    {
      "cell_type": "code",
      "metadata": {
        "id": "pj4boDqbswAK"
      },
      "source": [
        "SoftConstraint = namedtuple(\"SoftCostraint\", [\"X\", \"t\"])\n",
        "# A is a set of SoftConstraint"
      ],
      "execution_count": null,
      "outputs": []
    },
    {
      "cell_type": "markdown",
      "metadata": {
        "id": "AaM8BKsCz-bR"
      },
      "source": [
        "## Examples"
      ]
    },
    {
      "cell_type": "markdown",
      "metadata": {
        "id": "l6CshFbZ0EE1"
      },
      "source": [
        "### FRBS1"
      ]
    },
    {
      "cell_type": "code",
      "metadata": {
        "id": "FKVZBlQN0SJw"
      },
      "source": [
        "Force = LV(\n",
        "    X=\"Force\", \n",
        "    T={\"Negative\", \"Zero\", \"Positive\"},\n",
        "    U = set(np.linspace(-10,10,5)),\n",
        "    G = {},\n",
        "    μ = {\n",
        "        \"Negative\": trapmf(-10,-10, -5, 0),\n",
        "        \"Zero\": trimf(-5, 0, 5),\n",
        "        \"Positive\": trapmf(0, 5, 10, 10)\n",
        "        }.get\n",
        ")"
      ],
      "execution_count": null,
      "outputs": []
    },
    {
      "cell_type": "code",
      "metadata": {
        "id": "BLoo-HhG5Cd6",
        "colab": {
          "base_uri": "https://localhost:8080/"
        },
        "outputId": "83e79fff-11b0-4e81-9d9b-ec67e19bb4cd"
      },
      "source": [
        "Force"
      ],
      "execution_count": null,
      "outputs": [
        {
          "output_type": "execute_result",
          "data": {
            "text/plain": [
              "LV(X='Force', T={'Negative', 'Zero', 'Positive'}, U={0.0, 5.0, 10.0, -10.0, -5.0}, G={}, μ=<built-in method get of dict object at 0x7f7da46f01b0>)"
            ]
          },
          "metadata": {
            "tags": []
          },
          "execution_count": 19
        }
      ]
    },
    {
      "cell_type": "code",
      "metadata": {
        "id": "bMwOQF5g7G63"
      },
      "source": [
        "μN = Force.μ(\"Negative\")"
      ],
      "execution_count": null,
      "outputs": []
    },
    {
      "cell_type": "code",
      "metadata": {
        "id": "2PkvgE-a7LjY",
        "colab": {
          "base_uri": "https://localhost:8080/"
        },
        "outputId": "45915d99-a514-4232-b0bf-f62a6dcf6027"
      },
      "source": [
        "μN(-2)"
      ],
      "execution_count": null,
      "outputs": [
        {
          "output_type": "execute_result",
          "data": {
            "text/plain": [
              "0.4"
            ]
          },
          "metadata": {
            "tags": []
          },
          "execution_count": 21
        }
      ]
    },
    {
      "cell_type": "code",
      "metadata": {
        "id": "jqxGAZnGA3RS"
      },
      "source": [
        "Angle = LV(\n",
        "    X=\"Angle\", \n",
        "    T={\"Negative\", \"Zero\", \"Positive\"},\n",
        "    U = set(np.linspace(-90,90,15)),\n",
        "    G = {},\n",
        "    μ = {\n",
        "        \"Negative\": trapmf(-90,-90, -45, 0),\n",
        "        \"Zero\": trimf(-45, 0, 45),\n",
        "        \"Positive\": trapmf(0, 45, 90, 90)\n",
        "        }.get\n",
        ")"
      ],
      "execution_count": null,
      "outputs": []
    },
    {
      "cell_type": "markdown",
      "metadata": {
        "id": "5kPC82x-yFf2"
      },
      "source": [
        "# Descriptive Stability"
      ]
    },
    {
      "cell_type": "markdown",
      "metadata": {
        "id": "I_DkpwNgyL9i"
      },
      "source": [
        "## Common settings"
      ]
    },
    {
      "cell_type": "code",
      "metadata": {
        "id": "Yq_OLyyFy3vx"
      },
      "source": [
        "𝒶 = avg  # Aggregation function"
      ],
      "execution_count": null,
      "outputs": []
    },
    {
      "cell_type": "code",
      "metadata": {
        "id": "vNwkDuCm29sa"
      },
      "source": [
        "σ = jaccard  # Set similarity"
      ],
      "execution_count": null,
      "outputs": []
    },
    {
      "cell_type": "markdown",
      "metadata": {
        "id": "yWUhZ2n85mu0"
      },
      "source": [
        "## Rule Base Similarity"
      ]
    },
    {
      "cell_type": "markdown",
      "metadata": {
        "id": "31ZWAB5L4_4n"
      },
      "source": [
        "### Rule Similarity"
      ]
    },
    {
      "cell_type": "markdown",
      "metadata": {
        "id": "P1nPuA_LwVEu"
      },
      "source": [
        "#### Consequent Similarity"
      ]
    },
    {
      "cell_type": "code",
      "metadata": {
        "id": "dWmdXpRRmww4"
      },
      "source": [
        "def CS(C1,C2):\n",
        "  \"\"\"Consequent Similarity\"\"\"\n",
        "  assert C1.ctype == C2.ctype\n",
        "\n",
        "  if C1.ctype == \"classification\":\n",
        "    r = prod(χ(C1.Y, C2.Y),χ(C1.w, C2.w))\n",
        "  elif C1.ctype == \"mamdani\":\n",
        "    r = prod(χ(C1.Y, C2.Y),χ(C1.w, C2.w))\n",
        "  elif C1.ctype == \"tsk0\":\n",
        "    r = prod(χ(C1.Y, C2.Y), exp(-(C1.w - C2.w)**2))   \n",
        "  else:\n",
        "    raise NotImplementedError\n",
        "\n",
        "  #print(f\"CS({C1},{C2})={r}\")  \n",
        "  return r"
      ],
      "execution_count": null,
      "outputs": []
    },
    {
      "cell_type": "markdown",
      "metadata": {
        "id": "2sR7B4b5wlGx"
      },
      "source": [
        "#### Antecedent Similarity"
      ]
    },
    {
      "cell_type": "code",
      "metadata": {
        "id": "HzJv5mPgNgOi"
      },
      "source": [
        "ASN = lambda A: {SC.X for SC in A}"
      ],
      "execution_count": null,
      "outputs": []
    },
    {
      "cell_type": "code",
      "metadata": {
        "id": "ZwMi2srE2Zyp"
      },
      "source": [
        "def AS(A1, A2):\n",
        "  r = 𝒶(σ(ASN(A1), ASN(A2)), *[χ(SC1.t, SC2.t) for SC1 in A1 for SC2 in A2 if SC1.X==SC2.X])\n",
        "  #print(f\"AS({A1}, {A2})={r}\")\n",
        "  return r"
      ],
      "execution_count": null,
      "outputs": []
    },
    {
      "cell_type": "markdown",
      "metadata": {
        "id": "j4r_jvO45EOb"
      },
      "source": [
        "#### Rule Similarity"
      ]
    },
    {
      "cell_type": "markdown",
      "metadata": {
        "id": "rBh4lbep6CG1"
      },
      "source": [
        "### Rule Base Similarity"
      ]
    },
    {
      "cell_type": "code",
      "metadata": {
        "id": "bhFlTIbv69KQ"
      },
      "source": [
        "def RBASS(RB1, RB2):\n",
        "  M = np.array([RS(r1,r2) for r1 in RB1.values() for r2 in RB2.values()])\\\n",
        "              .reshape(len(RB1),len(RB2))\n",
        "  row_ind, col_ind = linear_sum_assignment(M, maximize=True)\n",
        "  r = M[row_ind,col_ind].sum()\n",
        "  #print(f\"RBASS({RB1}, {RB2})={r}\")\n",
        "  return r\n",
        "\n",
        "  "
      ],
      "execution_count": null,
      "outputs": []
    },
    {
      "cell_type": "code",
      "metadata": {
        "id": "kP7YwMCZ6YY9"
      },
      "source": [
        "def RBS(RB1, RB2):\n",
        "  r1 = len(RB1)\n",
        "  r2 = len(RB2)\n",
        "  r = RBASS(RB1, RB2)/max(r1,r2)\n",
        "  #print(f\"RBS({RB1}, {RB2})={r}\")\n",
        "  return r"
      ],
      "execution_count": null,
      "outputs": []
    },
    {
      "cell_type": "code",
      "metadata": {
        "id": "E0eiP8sD5O2F"
      },
      "source": [
        "def RS(R1, R2):\n",
        "  r = 𝒶(AS(R1.A, R2.A), CS(R1.C, R2.C))\n",
        "  #print(f\"RS({R1}, {R2})={r}\")\n",
        "  return r"
      ],
      "execution_count": null,
      "outputs": []
    },
    {
      "cell_type": "markdown",
      "metadata": {
        "id": "QDq3VBPkXCOe"
      },
      "source": [
        "## Data Base Similarity"
      ]
    },
    {
      "cell_type": "code",
      "metadata": {
        "id": "TQ0NAiRhX070"
      },
      "source": [
        "DBN = lambda DB: {LV.X for LV in DB.values()}"
      ],
      "execution_count": null,
      "outputs": []
    },
    {
      "cell_type": "markdown",
      "metadata": {
        "id": "4Zsjrh3Xq7Ki"
      },
      "source": [
        "### Data Base Interpretation Similarity"
      ]
    },
    {
      "cell_type": "markdown",
      "metadata": {
        "id": "CKTT5czSoEjQ"
      },
      "source": [
        "#### Interpretation Similarity"
      ]
    },
    {
      "cell_type": "code",
      "metadata": {
        "id": "OnQE06bnX_Mb"
      },
      "source": [
        "def IS(μ1, μ2, U1, U2):\n",
        "  U_min = U1 & U2\n",
        "  U_max = U1 | U2\n",
        "  min_mf = lambda x: min(ext_mf(μ1, U_min)(x), ext_mf(μ2, U_min)(x))\n",
        "  max_mf = lambda x: max(ext_mf(μ1, U_max)(x), ext_mf(μ2, U_max)(x))\n",
        "  r = σ_count(min_mf, U_min) / σ_count(max_mf, U_max)\n",
        "  #print(f\"IS({μ1}, {μ2}, {U1}, {U2})={r}\")\n",
        "  return r"
      ],
      "execution_count": null,
      "outputs": []
    },
    {
      "cell_type": "markdown",
      "metadata": {
        "id": "J8v4VtxIIZPp"
      },
      "source": [
        "#### Data Base Interpretation Similarity"
      ]
    },
    {
      "cell_type": "code",
      "metadata": {
        "id": "mSTNwxEVqJWN"
      },
      "source": [
        "def DBIS(DB1, DB2):\n",
        "  r = 𝒶(*[IS(LV1.μ(t), LV2.μ(t), LV1.U, LV2.U)\n",
        "              for LV1 in DB1.values()\n",
        "              for LV2 in DB2.values()\n",
        "              for t in LV1.T & LV2.T\n",
        "              if LV1.X == LV2.X])\n",
        "  #print(f\"DBIS({DB1}, {DB2})={r}\")\n",
        "  return r\n"
      ],
      "execution_count": null,
      "outputs": []
    },
    {
      "cell_type": "markdown",
      "metadata": {
        "id": "27A-eXMssuNC"
      },
      "source": [
        "### Data Base Term Similarity"
      ]
    },
    {
      "cell_type": "markdown",
      "metadata": {
        "id": "qqN3YBm7scmM"
      },
      "source": [
        "#### Term Similarity"
      ]
    },
    {
      "cell_type": "code",
      "metadata": {
        "id": "bQwwBF-2sFZu"
      },
      "source": [
        "def TS(T1, T2):\n",
        "  r = σ(T1, T2)\n",
        "  #print(f\"TS({T1}, {T2})={r}\")  \n",
        "  return r"
      ],
      "execution_count": null,
      "outputs": []
    },
    {
      "cell_type": "markdown",
      "metadata": {
        "id": "Qz2Sa13RIiOg"
      },
      "source": [
        "#### Data Base Term Similarity"
      ]
    },
    {
      "cell_type": "code",
      "metadata": {
        "id": "BkQLDPbAsrp2"
      },
      "source": [
        "def DBTS(DB1, DB2):\n",
        "  r = 𝒶(*[\n",
        "      TS(LV1.T, LV2.T)\n",
        "      for LV1 in DB1.values()\n",
        "      for LV2 in DB2.values()\n",
        "      if LV1.X == LV2.X\n",
        "  ])\n",
        "  #print(f\"DBTS({DB1}, {DB2})={r}\")\n",
        "  return r"
      ],
      "execution_count": null,
      "outputs": []
    },
    {
      "cell_type": "markdown",
      "metadata": {
        "id": "glfJiLk7tbXy"
      },
      "source": [
        "### Data Base Name Similarity"
      ]
    },
    {
      "cell_type": "code",
      "metadata": {
        "id": "4fBFPzbAtSPm"
      },
      "source": [
        "def DBNS(DB1, DB2):\n",
        "  r = σ(DBN(DB1), DBN(DB2))\n",
        "  #print(f\"DBNS({DB1}, {DB2}) = {r}\")  \n",
        "  return r"
      ],
      "execution_count": null,
      "outputs": []
    },
    {
      "cell_type": "markdown",
      "metadata": {
        "id": "J4-nkSADuA3s"
      },
      "source": [
        "### Data Base Similarity"
      ]
    },
    {
      "cell_type": "code",
      "metadata": {
        "id": "7iPxNgsLt6ru"
      },
      "source": [
        "def DBS(DB1, DB2):\n",
        "  #print(\"DEBUG: FORCED DBS=1\"); r=1\n",
        "  #r = DBNS(DB1, DB2) * 𝒶(DBTS(DB1, DB2), DBIS(DB1, DB2)) # aggregation applies to the proportion of LVs in common\n",
        "  r = 𝒶(DBNS(DB1, DB2), DBTS(DB1, DB2), DBIS(DB1, DB2)) # aggregation applies to the proportion of LVs in common\n",
        "  #print(f\"DBS({DB1}, {DB2}) = {r}\")\n",
        "  return r "
      ],
      "execution_count": null,
      "outputs": []
    },
    {
      "cell_type": "markdown",
      "metadata": {
        "id": "hZ9197BwvAYt"
      },
      "source": [
        "## FRBS Similarity"
      ]
    },
    {
      "cell_type": "code",
      "metadata": {
        "id": "MjeC7UbWvIfc"
      },
      "source": [
        "def KBS(S1, S2):\n",
        "  r = 𝒶(DBS(S1.DB, S2.DB), RBS(S1.RB, S2.RB))\n",
        "  #print(f\"KBS({S1}, {S2})={r}\")\n",
        "  return r"
      ],
      "execution_count": null,
      "outputs": []
    },
    {
      "cell_type": "code",
      "metadata": {
        "id": "CoaniVfHu45y"
      },
      "source": [
        "def DS(*S):\n",
        "  r = 𝒶(*[KBS(*S_pair) for S_pair in combinations(S,2)])\n",
        "  #print(f\"DS({S})={r}\")\n",
        "  return r"
      ],
      "execution_count": null,
      "outputs": []
    },
    {
      "cell_type": "markdown",
      "metadata": {
        "id": "InN66yeQIu_Y"
      },
      "source": [
        "# FML file parsing"
      ]
    },
    {
      "cell_type": "code",
      "metadata": {
        "id": "MwD56Bvpw1EO"
      },
      "source": [
        "import xml.etree.ElementTree as ET"
      ],
      "execution_count": null,
      "outputs": []
    },
    {
      "cell_type": "code",
      "metadata": {
        "id": "l2SF6_hxI0Cl"
      },
      "source": [
        "def buildfromFML(filename, fsresolution=100):\n",
        "    xmlns = \"{http://www.ieee1855.org}\"\n",
        "    tree = ET.parse(filename)\n",
        "    FRBS_XML = tree.getroot()\n",
        "    DB_XML =  FRBS_XML[0]\n",
        "    RB_XML =  FRBS_XML[1]\n",
        "\n",
        "    # processing DB_XML\n",
        "    DB = {}\n",
        "    for LV_XML in DB_XML:\n",
        "        X = LV_XML.attrib['name']\n",
        "        U_left = float(LV_XML.attrib['domainleft'])\n",
        "        U_right = float(LV_XML.attrib['domainright'])\n",
        "        U = set(np.linspace(U_left, U_right, fsresolution))\n",
        "        delta = (U_right-U_left) / fsresolution\n",
        "        G = {}\n",
        "        T = set()\n",
        "        μ_dict = {}\n",
        "        for LT_XML in LV_XML:\n",
        "            t = LT_XML.attrib['name']\n",
        "            T |= {t}\n",
        "            MF_XML = LT_XML[0]\n",
        "            if MF_XML.tag == xmlns+'trapezoidShape':\n",
        "                a = float(MF_XML.attrib['param1'])\n",
        "                b = float(MF_XML.attrib['param2'])\n",
        "                c = float(MF_XML.attrib['param3'])\n",
        "                d = float(MF_XML.attrib['param4'])\n",
        "                mf = trapmf(a, b, c, d)\n",
        "            elif MF_XML.tag == xmlns+'triangularShape':\n",
        "                a = float(MF_XML.attrib['param1'])\n",
        "                b = float(MF_XML.attrib['param2'])\n",
        "                c = float(MF_XML.attrib['param3'])\n",
        "                mf = trimf(a, b, c)\n",
        "            elif MF_XML.tag == xmlns+'singletonShape':\n",
        "                v = float(MF_XML.attrib['param1'])\n",
        "                mf = singletonmf(v, delta)\n",
        "            else:\n",
        "                raise NotImplementedError\n",
        "            \n",
        "            μ_dict[t] = mf\n",
        "        if len(T) > 0:  # discard LVs without terms\n",
        "          μ = μ_dict.get\n",
        "          DB[X] = LV(X,T,U,G,μ)\n",
        "\n",
        "    # processing RB_XML\n",
        "    if RB_XML.tag == xmlns+'mamdaniRuleBase':\n",
        "        ctype = 'mamdani'\n",
        "    else:\n",
        "        raise NotImplementedError\n",
        "\n",
        "    RB = {}\n",
        "    for RULE_XML in RB_XML:\n",
        "        ANT_XML = RULE_XML[0]\n",
        "        A = set()\n",
        "        for SC_XML in ANT_XML:\n",
        "            X = SC_XML[0].text\n",
        "            t = SC_XML[1].text\n",
        "            A |= {SoftConstraint(X,t)}\n",
        "            \n",
        "        CONS_XML = RULE_XML[1][0][0]\n",
        "        Y = CONS_XML[0].text\n",
        "        w = CONS_XML[1].text\n",
        "        C = Consequent(Y, w, ctype)\n",
        "        \n",
        "        RB[RULE_XML.attrib['name']] = Rule(A,C)\n",
        "\n",
        "\n",
        "    return FRBS(DB, RB)"
      ],
      "execution_count": null,
      "outputs": []
    },
    {
      "cell_type": "markdown",
      "metadata": {
        "id": "JJ5MvOmejkDR"
      },
      "source": [
        "## Test"
      ]
    },
    {
      "cell_type": "code",
      "metadata": {
        "id": "cpUGCiBlUaeh",
        "colab": {
          "base_uri": "https://localhost:8080/"
        },
        "outputId": "de03c61d-a65c-4050-a0d9-b968658040a8"
      },
      "source": [
        "from google.colab import drive\n",
        "drive.mount('/content/drive')"
      ],
      "execution_count": null,
      "outputs": [
        {
          "output_type": "stream",
          "text": [
            "Mounted at /content/drive\n"
          ],
          "name": "stdout"
        }
      ]
    },
    {
      "cell_type": "code",
      "metadata": {
        "id": "LLc5Ug1HUkg8"
      },
      "source": [
        "path_locale = './'\n",
        "path_corrado = '/content/drive/MyDrive/DS-experiments/'\n",
        "path = path_corrado"
      ],
      "execution_count": null,
      "outputs": []
    },
    {
      "cell_type": "code",
      "metadata": {
        "id": "CYejskA8KNNo"
      },
      "source": [
        "#frbs1 = buildfromFML(path+'InvertedPendulumMamdani1.xml')\n",
        "#frbs2 = buildfromFML(path+'InvertedPendulumMamdani1.xml')"
      ],
      "execution_count": null,
      "outputs": []
    },
    {
      "cell_type": "code",
      "metadata": {
        "id": "of-H0vJtKPId"
      },
      "source": [
        "#print(DS(frbs1, frbs2))"
      ],
      "execution_count": null,
      "outputs": []
    },
    {
      "cell_type": "code",
      "metadata": {
        "id": "nf7m0IIulo4_"
      },
      "source": [
        ""
      ],
      "execution_count": null,
      "outputs": []
    },
    {
      "cell_type": "markdown",
      "metadata": {
        "id": "rvSLv4Nq24y-"
      },
      "source": [
        "# Experiments"
      ]
    },
    {
      "cell_type": "code",
      "metadata": {
        "id": "PoGe5y4DjX0z"
      },
      "source": [
        "def do_experiment(folder, filename_template, it=range(10)):\n",
        "  try:\n",
        "    frbss = [buildfromFML(path+folder+'/'+filename_template.format(i)) for i in it]\n",
        "    ds_global = DS(*frbss)\n",
        "    ds_matrix = np.array([[DS(fs1, fs2) for fs1 in frbss] for fs2 in frbss])\n",
        "    return ds_global, ds_matrix, frbss\n",
        "  except:\n",
        "    print(f\"Failed on: {folder}/{filename_template}\")\n",
        "    raise"
      ],
      "execution_count": null,
      "outputs": []
    },
    {
      "cell_type": "markdown",
      "metadata": {
        "id": "RGHze5Y13GeZ"
      },
      "source": [
        "## Run experiments"
      ]
    },
    {
      "cell_type": "code",
      "metadata": {
        "id": "2uVGpLb827Xe"
      },
      "source": [
        "folders = [\"FDT_Beer\", \n",
        "           \"beer-guaje-fdtp-s-jfml\", \n",
        "           \"BEER-guaje-furia-jfml\",\n",
        "           \"PIMA-guaje-furia-jfml\",\n",
        "           \"PIMA-guaje-furia-jfml\",\n",
        "           \"PIMA-guaje-furia-jfml\",\n",
        "           \"WINE-guaje-furia-jfml\",\n",
        "           \"WINE-guaje-furia-jfml\",\n",
        "           \"WINE-guaje-furia-jfml\"]\n",
        "filename_templates = [\"cv{0}-guaje-fdtp.jfml.xml\", \n",
        "                      'cv{0}-guaje-fdtp-s.jfml.xml', \n",
        "                      'BEER3.txt.aux.train.{0}.arff.FURIA.log.txt.rules.txt.jfml.xml',\n",
        "                      \"cv{0}-guaje-fdtp.jfml.xml\",\n",
        "                      \"cv{0}-guaje-fdtp-s.jfml.xml\",\n",
        "                      \"PIMA.txt.aux.train.{0}.arff.FURIA.log.txt.rules.txt.jfml.xml\",\n",
        "                      \"cv{0}-guaje-fdtp.jfml.xml\",\n",
        "                      \"cv{0}-guaje-fdtp-s.jfml.xml\",\n",
        "                      \"WINE.txt.aux.train.{0}.arff.FURIA.log.txt.rules.txt.jfml.xml\"\n",
        "]\n",
        "experiments = {folder+'/'+filename_template: do_experiment(folder, filename_template) \n",
        "                for folder, filename_template in zip(folders, filename_templates)}"
      ],
      "execution_count": null,
      "outputs": []
    },
    {
      "cell_type": "markdown",
      "metadata": {
        "id": "wTOTMlLflVKE"
      },
      "source": [
        "## Print results"
      ]
    },
    {
      "cell_type": "code",
      "metadata": {
        "colab": {
          "base_uri": "https://localhost:8080/"
        },
        "id": "MeDv_8oNlXm6",
        "outputId": "9746b9c3-4624-45b8-f859-4499e529ea95"
      },
      "source": [
        "np.set_printoptions(precision=3)\n",
        "for exp in experiments:\n",
        "  print(\"EXPERIMENT: \", exp)\n",
        "  print(\"Global DS: \", experiments[exp][0])\n",
        "  print(\"Pairwise comparison: \")\n",
        "  print(experiments[exp][1])\n",
        "  print()"
      ],
      "execution_count": null,
      "outputs": [
        {
          "output_type": "stream",
          "text": [
            "EXPERIMENT:  FDT_Beer/cv{0}-guaje-fdtp.jfml.xml\n",
            "Global DS:  0.9018448681625427\n",
            "Pairwise comparison: \n",
            "[[1.    0.771 0.779 0.777 0.751 0.781 0.777 0.78  0.781 0.736]\n",
            " [0.771 1.    0.988 0.985 0.795 0.986 0.984 0.989 0.984 0.926]\n",
            " [0.779 0.988 1.    0.996 0.794 0.997 0.995 0.999 0.996 0.929]\n",
            " [0.777 0.985 0.996 1.    0.792 0.994 0.995 0.995 0.993 0.932]\n",
            " [0.751 0.795 0.794 0.792 1.    0.797 0.791 0.794 0.794 0.752]\n",
            " [0.781 0.986 0.997 0.994 0.797 1.    0.992 0.996 0.996 0.928]\n",
            " [0.777 0.984 0.995 0.995 0.791 0.992 1.    0.994 0.992 0.929]\n",
            " [0.78  0.989 0.999 0.995 0.794 0.996 0.994 1.    0.995 0.93 ]\n",
            " [0.781 0.984 0.996 0.993 0.794 0.996 0.992 0.995 1.    0.928]\n",
            " [0.736 0.926 0.929 0.932 0.752 0.928 0.929 0.93  0.928 1.   ]]\n",
            "\n",
            "EXPERIMENT:  beer-guaje-fdtp-s-jfml/cv{0}-guaje-fdtp-s.jfml.xml\n",
            "Global DS:  0.8498221149201389\n",
            "Pairwise comparison: \n",
            "[[1.    0.668 0.659 0.658 0.724 0.659 0.658 0.66  0.659 0.684]\n",
            " [0.668 1.    0.946 0.945 0.765 0.945 0.945 0.946 0.943 0.832]\n",
            " [0.659 0.946 1.    0.998 0.729 0.998 0.999 0.999 0.997 0.818]\n",
            " [0.658 0.945 0.998 1.    0.728 0.997 0.998 0.997 0.995 0.818]\n",
            " [0.724 0.765 0.729 0.728 1.    0.73  0.728 0.728 0.726 0.711]\n",
            " [0.659 0.945 0.998 0.997 0.73  1.    0.997 0.998 0.996 0.817]\n",
            " [0.658 0.945 0.999 0.998 0.728 0.997 1.    0.998 0.997 0.818]\n",
            " [0.66  0.946 0.999 0.997 0.728 0.998 0.998 1.    0.996 0.818]\n",
            " [0.659 0.943 0.997 0.995 0.726 0.996 0.997 0.996 1.    0.816]\n",
            " [0.684 0.832 0.818 0.818 0.711 0.817 0.818 0.818 0.816 1.   ]]\n",
            "\n",
            "EXPERIMENT:  BEER-guaje-furia-jfml/BEER3.txt.aux.train.{0}.arff.FURIA.log.txt.rules.txt.jfml.xml\n",
            "Global DS:  0.7603410496314501\n",
            "Pairwise comparison: \n",
            "[[1.    0.863 0.832 0.84  0.716 0.739 0.83  0.713 0.786 0.862]\n",
            " [0.863 1.    0.791 0.91  0.749 0.701 0.768 0.694 0.84  0.772]\n",
            " [0.832 0.791 1.    0.774 0.721 0.811 0.83  0.758 0.711 0.764]\n",
            " [0.84  0.91  0.774 1.    0.769 0.696 0.748 0.667 0.835 0.746]\n",
            " [0.716 0.749 0.721 0.769 1.    0.654 0.673 0.639 0.833 0.73 ]\n",
            " [0.739 0.701 0.811 0.696 0.654 1.    0.738 0.814 0.644 0.751]\n",
            " [0.83  0.768 0.83  0.748 0.673 0.738 1.    0.748 0.747 0.825]\n",
            " [0.713 0.694 0.758 0.667 0.639 0.814 0.748 1.    0.638 0.74 ]\n",
            " [0.786 0.84  0.711 0.835 0.833 0.644 0.747 0.638 1.    0.808]\n",
            " [0.862 0.772 0.764 0.746 0.73  0.751 0.825 0.74  0.808 1.   ]]\n",
            "\n",
            "EXPERIMENT:  PIMA-guaje-furia-jfml/cv{0}-guaje-fdtp.jfml.xml\n",
            "Global DS:  0.8321525768599211\n",
            "Pairwise comparison: \n",
            "[[1.    0.813 0.812 0.875 0.879 0.878 0.817 0.878 0.803 0.854]\n",
            " [0.813 1.    0.891 0.799 0.863 0.807 0.869 0.845 0.745 0.869]\n",
            " [0.812 0.891 1.    0.784 0.823 0.799 0.862 0.803 0.773 0.833]\n",
            " [0.875 0.799 0.784 1.    0.85  0.91  0.804 0.872 0.828 0.834]\n",
            " [0.879 0.863 0.823 0.85  1.    0.857 0.81  0.907 0.771 0.928]\n",
            " [0.878 0.807 0.799 0.91  0.857 1.    0.815 0.888 0.806 0.837]\n",
            " [0.817 0.869 0.862 0.804 0.81  0.815 1.    0.805 0.713 0.798]\n",
            " [0.878 0.845 0.803 0.872 0.907 0.888 0.805 1.    0.784 0.879]\n",
            " [0.803 0.745 0.773 0.828 0.771 0.806 0.713 0.784 1.    0.776]\n",
            " [0.854 0.869 0.833 0.834 0.928 0.837 0.798 0.879 0.776 1.   ]]\n",
            "\n",
            "EXPERIMENT:  PIMA-guaje-furia-jfml/cv{0}-guaje-fdtp-s.jfml.xml\n",
            "Global DS:  0.674876501232242\n",
            "Pairwise comparison: \n",
            "[[1.    0.72  0.742 0.748 0.702 0.662 0.742 0.652 0.605 0.677]\n",
            " [0.72  1.    0.727 0.654 0.715 0.604 0.751 0.701 0.57  0.699]\n",
            " [0.742 0.727 1.    0.721 0.677 0.643 0.716 0.674 0.623 0.707]\n",
            " [0.748 0.654 0.721 1.    0.695 0.781 0.666 0.694 0.687 0.705]\n",
            " [0.702 0.715 0.677 0.695 1.    0.603 0.639 0.728 0.589 0.735]\n",
            " [0.662 0.604 0.643 0.781 0.603 1.    0.609 0.666 0.703 0.632]\n",
            " [0.742 0.751 0.716 0.666 0.639 0.609 1.    0.639 0.589 0.627]\n",
            " [0.652 0.701 0.674 0.694 0.728 0.666 0.639 1.    0.641 0.702]\n",
            " [0.605 0.57  0.623 0.687 0.589 0.703 0.589 0.641 1.    0.609]\n",
            " [0.677 0.699 0.707 0.705 0.735 0.632 0.627 0.702 0.609 1.   ]]\n",
            "\n",
            "EXPERIMENT:  PIMA-guaje-furia-jfml/PIMA.txt.aux.train.{0}.arff.FURIA.log.txt.rules.txt.jfml.xml\n",
            "Global DS:  0.6825817897271533\n",
            "Pairwise comparison: \n",
            "[[1.    0.658 0.518 0.697 0.61  0.675 0.739 0.759 0.808 0.851]\n",
            " [0.658 1.    0.64  0.806 0.668 0.861 0.727 0.667 0.612 0.71 ]\n",
            " [0.518 0.64  1.    0.641 0.711 0.689 0.554 0.488 0.552 0.566]\n",
            " [0.697 0.806 0.641 1.    0.73  0.783 0.666 0.65  0.72  0.819]\n",
            " [0.61  0.668 0.711 0.73  1.    0.645 0.589 0.575 0.688 0.667]\n",
            " [0.675 0.861 0.689 0.783 0.645 1.    0.671 0.619 0.638 0.702]\n",
            " [0.739 0.727 0.554 0.666 0.589 0.671 1.    0.73  0.735 0.684]\n",
            " [0.759 0.667 0.488 0.65  0.575 0.619 0.73  1.    0.648 0.778]\n",
            " [0.808 0.612 0.552 0.72  0.688 0.638 0.735 0.648 1.    0.771]\n",
            " [0.851 0.71  0.566 0.819 0.667 0.702 0.684 0.778 0.771 1.   ]]\n",
            "\n",
            "EXPERIMENT:  WINE-guaje-furia-jfml/cv{0}-guaje-fdtp.jfml.xml\n",
            "Global DS:  0.8733960082137523\n",
            "Pairwise comparison: \n",
            "[[1.    0.869 0.884 0.832 0.861 0.894 0.865 0.824 0.875 0.844]\n",
            " [0.869 1.    0.868 0.83  0.837 0.902 0.88  0.817 0.873 0.842]\n",
            " [0.884 0.868 1.    0.871 0.898 0.884 0.905 0.867 0.892 0.878]\n",
            " [0.832 0.83  0.871 1.    0.868 0.838 0.896 0.874 0.866 0.888]\n",
            " [0.861 0.837 0.898 0.868 1.    0.865 0.89  0.862 0.878 0.892]\n",
            " [0.894 0.902 0.884 0.838 0.865 1.    0.888 0.852 0.928 0.873]\n",
            " [0.865 0.88  0.905 0.896 0.89  0.888 1.    0.884 0.9   0.923]\n",
            " [0.824 0.817 0.867 0.874 0.862 0.852 0.884 1.    0.877 0.886]\n",
            " [0.875 0.873 0.892 0.866 0.878 0.928 0.9   0.877 1.    0.883]\n",
            " [0.844 0.842 0.878 0.888 0.892 0.873 0.923 0.886 0.883 1.   ]]\n",
            "\n",
            "EXPERIMENT:  WINE-guaje-furia-jfml/cv{0}-guaje-fdtp-s.jfml.xml\n",
            "Global DS:  0.6943628838288797\n",
            "Pairwise comparison: \n",
            "[[1.    0.61  0.736 0.621 0.831 0.701 0.665 0.688 0.676 0.678]\n",
            " [0.61  1.    0.678 0.602 0.647 0.735 0.719 0.647 0.691 0.722]\n",
            " [0.736 0.678 1.    0.567 0.743 0.742 0.721 0.681 0.73  0.711]\n",
            " [0.621 0.602 0.567 1.    0.595 0.607 0.602 0.648 0.55  0.614]\n",
            " [0.831 0.647 0.743 0.595 1.    0.751 0.692 0.666 0.751 0.735]\n",
            " [0.701 0.735 0.742 0.607 0.751 1.    0.738 0.781 0.816 0.756]\n",
            " [0.665 0.719 0.721 0.602 0.692 0.738 1.    0.685 0.687 0.819]\n",
            " [0.688 0.647 0.681 0.648 0.666 0.781 0.685 1.    0.738 0.707]\n",
            " [0.676 0.691 0.73  0.55  0.751 0.816 0.687 0.738 1.    0.764]\n",
            " [0.678 0.722 0.711 0.614 0.735 0.756 0.819 0.707 0.764 1.   ]]\n",
            "\n",
            "EXPERIMENT:  WINE-guaje-furia-jfml/WINE.txt.aux.train.{0}.arff.FURIA.log.txt.rules.txt.jfml.xml\n",
            "Global DS:  0.6922911156870921\n",
            "Pairwise comparison: \n",
            "[[1.    0.66  0.545 0.701 0.676 0.793 0.641 0.573 0.631 0.604]\n",
            " [0.66  1.    0.692 0.688 0.849 0.718 0.65  0.758 0.71  0.835]\n",
            " [0.545 0.692 1.    0.639 0.734 0.62  0.629 0.782 0.717 0.704]\n",
            " [0.701 0.688 0.639 1.    0.692 0.759 0.763 0.691 0.723 0.721]\n",
            " [0.676 0.849 0.734 0.692 1.    0.717 0.578 0.692 0.766 0.759]\n",
            " [0.793 0.718 0.62  0.759 0.717 1.    0.739 0.613 0.643 0.646]\n",
            " [0.641 0.65  0.629 0.763 0.578 0.739 1.    0.67  0.652 0.661]\n",
            " [0.573 0.758 0.782 0.691 0.692 0.613 0.67  1.    0.667 0.754]\n",
            " [0.631 0.71  0.717 0.723 0.766 0.643 0.652 0.667 1.    0.699]\n",
            " [0.604 0.835 0.704 0.721 0.759 0.646 0.661 0.754 0.699 1.   ]]\n",
            "\n"
          ],
          "name": "stdout"
        }
      ]
    },
    {
      "cell_type": "markdown",
      "metadata": {
        "id": "Aob_w5vRa2XB"
      },
      "source": [
        "#### cross-comparison"
      ]
    },
    {
      "cell_type": "code",
      "metadata": {
        "id": "RpV5-FuNZWwO"
      },
      "source": [
        "ds1 = \"FDT_Beer/cv{0}-guaje-fdtp.jfml.xml\"\n",
        "ds2 = \"beer-guaje-fdtp-s-jfml/cv{0}-guaje-fdtp-s.jfml.xml\"\n",
        "\n",
        "comparison = np.array([[DS(fs1, fs2) for fs1 in experiments[ds1][2]] for fs2 in experiments[ds2][2]])"
      ],
      "execution_count": null,
      "outputs": []
    },
    {
      "cell_type": "code",
      "metadata": {
        "colab": {
          "base_uri": "https://localhost:8080/"
        },
        "id": "xbeyudtAa9z5",
        "outputId": "d7a6ad61-a4c1-4400-d30d-bcd977dd42e9"
      },
      "source": [
        "print(ds1, \"vs.\", ds2); print(comparison)"
      ],
      "execution_count": null,
      "outputs": [
        {
          "output_type": "stream",
          "text": [
            "FDT_Beer/cv{0}-guaje-fdtp.jfml.xml vs. beer-guaje-fdtp-s-jfml/cv{0}-guaje-fdtp-s.jfml.xml\n",
            "[[0.642 0.632 0.632 0.631 0.543 0.632 0.631 0.632 0.632 0.611]\n",
            " [0.547 0.624 0.623 0.621 0.547 0.622 0.622 0.624 0.62  0.586]\n",
            " [0.527 0.599 0.6   0.598 0.531 0.598 0.598 0.599 0.596 0.562]\n",
            " [0.526 0.597 0.598 0.6   0.531 0.597 0.597 0.597 0.595 0.562]\n",
            " [0.619 0.711 0.711 0.711 0.622 0.712 0.71  0.711 0.709 0.682]\n",
            " [0.527 0.598 0.598 0.597 0.533 0.6   0.597 0.597 0.595 0.561]\n",
            " [0.526 0.598 0.598 0.597 0.53  0.597 0.6   0.598 0.597 0.562]\n",
            " [0.527 0.599 0.599 0.597 0.531 0.597 0.598 0.6   0.596 0.562]\n",
            " [0.527 0.596 0.596 0.595 0.529 0.595 0.597 0.596 0.6   0.561]\n",
            " [0.534 0.597 0.593 0.593 0.522 0.593 0.593 0.593 0.592 0.637]]\n"
          ],
          "name": "stdout"
        }
      ]
    },
    {
      "cell_type": "code",
      "metadata": {
        "colab": {
          "base_uri": "https://localhost:8080/"
        },
        "id": "ArP12m-7oLwL",
        "outputId": "af6c9b84-8c71-4cea-a8da-a61cd9f9d169"
      },
      "source": [
        "comparison.diagonal().mean()"
      ],
      "execution_count": null,
      "outputs": [
        {
          "output_type": "execute_result",
          "data": {
            "text/plain": [
              "0.6122916778735743"
            ]
          },
          "metadata": {
            "tags": []
          },
          "execution_count": 53
        }
      ]
    },
    {
      "cell_type": "code",
      "metadata": {
        "id": "1jqGzOp2Lhfd",
        "colab": {
          "base_uri": "https://localhost:8080/"
        },
        "outputId": "cdbc8e11-0ace-4fec-e064-c9f4d167bc4c"
      },
      "source": [
        "comparison.diagonal().std()"
      ],
      "execution_count": null,
      "outputs": [
        {
          "output_type": "execute_result",
          "data": {
            "text/plain": [
              "0.016156192942621127"
            ]
          },
          "metadata": {
            "tags": []
          },
          "execution_count": 54
        }
      ]
    },
    {
      "cell_type": "code",
      "metadata": {
        "id": "z6vc4wdaMGbJ"
      },
      "source": [
        ""
      ],
      "execution_count": null,
      "outputs": []
    }
  ]
}